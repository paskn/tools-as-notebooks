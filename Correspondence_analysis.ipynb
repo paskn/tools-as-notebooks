{
  "cells": [
    {
      "cell_type": "code",
      "execution_count": null,
      "id": "20cc9971",
      "metadata": {
        "colab": {
          "base_uri": "https://localhost:8080/"
        },
        "cellView": "form",
        "id": "20cc9971",
        "outputId": "2c88632f-e61d-4fd6-8e1a-d01d2b4a0045"
      },
      "outputs": [
        {
          "output_type": "stream",
          "name": "stdout",
          "text": [
            "\u001b[?25l   \u001b[90m━━━━━━━━━━━━━━━━━━━━━━━━━━━━━━━━━━━━━━━━\u001b[0m \u001b[32m0.0/417.8 kB\u001b[0m \u001b[31m?\u001b[0m eta \u001b[36m-:--:--\u001b[0m\r\u001b[2K   \u001b[91m━━━━━━━━━━━\u001b[0m\u001b[91m╸\u001b[0m\u001b[90m━━━━━━━━━━━━━━━━━━━━━━━━━━━━\u001b[0m \u001b[32m122.9/417.8 kB\u001b[0m \u001b[31m4.1 MB/s\u001b[0m eta \u001b[36m0:00:01\u001b[0m\r\u001b[2K   \u001b[90m━━━━━━━━━━━━━━━━━━━━━━━━━━━━━━━━━━━━━━━━\u001b[0m \u001b[32m417.8/417.8 kB\u001b[0m \u001b[31m5.2 MB/s\u001b[0m eta \u001b[36m0:00:00\u001b[0m\n",
            "\u001b[?25hMounted at /content/drive\n",
            "Setup complete. Libraries are imported and Google Drive is mounted.\n"
          ]
        }
      ],
      "source": [
        "# @title Setup and Imports\n",
        "# @markdown This notebook performs Correspondence Analysis (CA) on a text corpus from a CSV file.\n",
        "# @markdown The CSV file is expected to have a column named 'Text' containing the documents.\n",
        "# @markdown\n",
        "# @markdown **Steps:**\n",
        "# @markdown 1.  **Setup:** Install and import necessary libraries, and mount Google Drive.\n",
        "# @markdown 2.  **Data Loading:** Load the dataset from a CSV file.\n",
        "# @markdown 3.  **Preprocessing:** Create a document-term matrix from the text data.\n",
        "# @markdown 4.  **Analysis:** Perform Correspondence Analysis on the matrix.\n",
        "# @markdown 5.  **Visualization:** Plot the results to visualize relationships between documents and terms.\n",
        "\n",
        "# Install the 'prince' library for Correspondence Analysis\n",
        "!pip install prince -q\n",
        "\n",
        "# Import necessary libraries\n",
        "import pandas as pd\n",
        "import numpy as np\n",
        "import prince\n",
        "from sklearn.feature_extraction.text import CountVectorizer\n",
        "import matplotlib.pyplot as plt\n",
        "import seaborn as sns\n",
        "from google.colab import drive\n",
        "\n",
        "# Mount Google Drive to access files\n",
        "try:\n",
        "    drive.mount('/content/drive')\n",
        "except:\n",
        "    print(\"Google Drive is already mounted.\")\n",
        "\n",
        "# Set plot style\n",
        "sns.set_style('whitegrid')\n",
        "print(\"Setup complete. Libraries are imported and Google Drive is mounted.\")"
      ]
    },
    {
      "cell_type": "code",
      "execution_count": null,
      "id": "f1011932",
      "metadata": {
        "colab": {
          "base_uri": "https://localhost:8080/"
        },
        "id": "f1011932",
        "outputId": "f6b61c17-70da-48ef-8dfa-48d3763b1888"
      },
      "outputs": [
        {
          "output_type": "stream",
          "name": "stdout",
          "text": [
            "Dataset loaded successfully from /content/drive/MyDrive/Colab_Data/lemmatized_output.csv\n",
            "Number of documents: 634\n",
            "First 5 rows of the dataset:\n",
            "                    id                              Grok Vision 2 Prompts  \\\n",
            "0  1824983266878713985  A man with a stern expression, dressed in a fo...   \n",
            "1  1823179645828944261  A cartoon-style anthropomorphic bird character...   \n",
            "2  1823780219204890916  A woman wearing a red \"TRUMP DACE\" cap and a b...   \n",
            "3  1823793576393965961  A detailed text prompt for generating this ima...   \n",
            "4  1824950468399038937  A stern-faced middle-aged man with blond hair,...   \n",
            "\n",
            "                                     text_lemmatized  \\\n",
            "0  man stern expression dress formal black suit r...   \n",
            "1  cartoon style anthropomorphic bird character e...   \n",
            "2  woman wear red trump dace cap black face mask ...   \n",
            "3  detailed text prompt generate image young woma...   \n",
            "4  stern face middle aged man blond hair wear dar...   \n",
            "\n",
            "                                                Text  \n",
            "0  man stern expression dress formal black suit r...  \n",
            "1  cartoon style anthropomorphic bird character e...  \n",
            "2  woman wear red trump dace cap black face mask ...  \n",
            "3  detailed text prompt generate image young woma...  \n",
            "4  stern face middle aged man blond hair wear dar...  \n"
          ]
        }
      ],
      "source": [
        "# @title Load the dataset\n",
        "# @markdown Specify the path to your CSV file in Google Drive.\n",
        "# @markdown This file should contain a 'Text' column with your documents.\n",
        "file_path = '/content/drive/MyDrive/Colab_Data/lemmatized_output.csv'  # @param {type:\"string\"}\n",
        "\n",
        "# Load the dataset\n",
        "try:\n",
        "    df = pd.read_csv(file_path)\n",
        "    df['Text'] = df['text_lemmatized']\n",
        "    # Verify that the 'Text' column exists\n",
        "    if 'Text' not in df.columns:\n",
        "        raise ValueError(\"CSV must have a 'Text' column.\")\n",
        "    print(f\"Dataset loaded successfully from {file_path}\")\n",
        "    print(f\"Number of documents: {len(df)}\")\n",
        "    print(\"First 5 rows of the dataset:\")\n",
        "    print(df.head())\n",
        "except FileNotFoundError:\n",
        "    print(f\"File not found at {file_path}. Please check the path and try again.\")\n",
        "except Exception as e:\n",
        "    print(f\"An error occurred: {e}\")"
      ]
    },
    {
      "cell_type": "code",
      "execution_count": null,
      "id": "04062782",
      "metadata": {
        "cellView": "form",
        "colab": {
          "base_uri": "https://localhost:8080/"
        },
        "id": "04062782",
        "outputId": "2a8bc9b6-6b4d-4e73-9780-24249ecd1941"
      },
      "outputs": [
        {
          "output_type": "stream",
          "name": "stdout",
          "text": [
            "Document-term matrix created successfully.\n",
            "Matrix shape: (634, 4872)\n",
            "Document-Term Matrix (first 5 rows and 10 columns):\n",
            "   aaron  aarons  abandon  abdomen  ability  aboard  abraham  absence  absent  \\\n",
            "0      0       0        0        0        0       0        0        0       0   \n",
            "1      0       0        0        0        0       0        0        0       0   \n",
            "2      0       0        0        0        0       0        0        0       0   \n",
            "3      0       0        0        0        0       0        0        0       0   \n",
            "4      0       0        0        0        0       0        0        0       0   \n",
            "\n",
            "   absolutely  \n",
            "0           0  \n",
            "1           0  \n",
            "2           0  \n",
            "3           0  \n",
            "4           0  \n"
          ]
        }
      ],
      "source": [
        "# @title Create Document-Term Matrix\n",
        "# @markdown This cell creates a document-term matrix from the 'Text' column of the dataset.\n",
        "\n",
        "# Create a CountVectorizer to convert text to a matrix of token counts\n",
        "vectorizer = CountVectorizer(stop_words='english')\n",
        "doc_term_matrix = vectorizer.fit_transform(df['Text'])\n",
        "\n",
        "# Convert the matrix to a pandas DataFrame for better readability\n",
        "doc_term_df = pd.DataFrame(doc_term_matrix.toarray(), columns=vectorizer.get_feature_names_out())\n",
        "\n",
        "print(\"Document-term matrix created successfully.\")\n",
        "print(f\"Matrix shape: {doc_term_df.shape}\")\n",
        "print(\"Document-Term Matrix (first 5 rows and 10 columns):\")\n",
        "print(doc_term_df.head().iloc[:, :10])"
      ]
    },
    {
      "cell_type": "code",
      "execution_count": null,
      "id": "13c5e55c",
      "metadata": {
        "cellView": "form",
        "colab": {
          "base_uri": "https://localhost:8080/"
        },
        "id": "13c5e55c",
        "outputId": "729cc6f1-85a4-46a7-d1f4-7bc3b328ce11"
      },
      "outputs": [
        {
          "output_type": "stream",
          "name": "stdout",
          "text": [
            "Correspondence Analysis complete.\n"
          ]
        }
      ],
      "source": [
        "# @title Perform Correspondence Analysis\n",
        "# @markdown This cell performs Correspondence Analysis on the document-term matrix.\n",
        "\n",
        "# Initialize CA with 2 components\n",
        "ca = prince.CA(\n",
        "    n_components=2,\n",
        "    n_iter=3,\n",
        "    copy=True,\n",
        "    check_input=True,\n",
        "    engine='scipy', # Changed 'auto' to 'scipy'\n",
        "    random_state=42\n",
        ")\n",
        "\n",
        "# Fit the CA model to the document-term matrix\n",
        "ca = ca.fit(doc_term_df)\n",
        "\n",
        "print(\"Correspondence Analysis complete.\")"
      ]
    },
    {
      "cell_type": "code",
      "execution_count": null,
      "id": "39bc888a",
      "metadata": {
        "colab": {
          "base_uri": "https://localhost:8080/",
          "height": 452
        },
        "id": "39bc888a",
        "outputId": "cb7ef8a9-73e7-47a0-fc19-c13f7e13aacd"
      },
      "outputs": [
        {
          "output_type": "display_data",
          "data": {
            "text/plain": [
              "<Figure size 640x480 with 1 Axes>"
            ],
            "image/png": "[encoded data removed]"
          },
          "metadata": {}
        }
      ],
      "source": [
        "# @title Visualize the Results with Labels\n",
        "# @markdown This cell creates a scatter plot to visualize the results of the CA, with labels for the most significant documents and terms.\n",
        "# @markdown To avoid overlapping labels, the `adjustText` library is used.\n",
        "\n",
        "# Install adjustText library\n",
        "!pip install adjustText -q\n",
        "\n",
        "from adjustText import adjust_text\n",
        "\n",
        "# Get the coordinates for rows (documents) and columns (terms)\n",
        "row_coords = ca.row_coordinates(doc_term_df)\n",
        "col_coords = ca.column_coordinates(doc_term_df)\n",
        "\n",
        "# --- Select top N labels to display to avoid clutter ---\n",
        "N_TERMS = 20  # Number of top terms to label\n",
        "N_DOCS = 20   # Number of top documents to label\n",
        "\n",
        "# Calculate squared distance from origin for terms\n",
        "col_coords['dist'] = col_coords[0]**2 + col_coords[1]**2\n",
        "top_terms = col_coords.nlargest(N_TERMS, 'dist')\n",
        "\n",
        "# Calculate squared distance from origin for documents\n",
        "row_coords['dist'] = row_coords[0]**2 + row_coords[1]**2\n",
        "top_docs = row_coords.nlargest(N_DOCS, 'dist')\n",
        "\n",
        "# --- Create the plot ---\n",
        "fig, ax = plt.subplots(figsize=(16, 12))\n",
        "\n",
        "# Plot all points without labels first\n",
        "ax.scatter(row_coords[0], row_coords[1], c='blue', alpha=0.5, label='Documents')\n",
        "ax.scatter(col_coords[0], col_coords[1], c='red', alpha=0.5, label='Terms')\n",
        "\n",
        "# --- Add labels using adjust_text ---\n",
        "texts = []\n",
        "\n",
        "# Add labels for top terms\n",
        "for i, row in top_terms.iterrows():\n",
        "    texts.append(ax.text(row[0], row[1], i, color='red', fontsize=10))\n",
        "\n",
        "# Add labels for top documents\n",
        "for i, row in top_docs.iterrows():\n",
        "    texts.append(ax.text(row[0], row[1], f'Doc {i}', color='blue', fontsize=10))\n",
        "\n",
        "# Adjust text to prevent overlap\n",
        "adjust_text(texts, arrowprops=dict(arrowstyle='->', color='gray', lw=0.5))\n",
        "\n",
        "# --- Final plot styling ---\n",
        "ax.set_title('Correspondence Analysis of Documents and Terms (Top Labels)')\n",
        "ax.set_xlabel(f'Dimension 1 ({ca.eigenvalues_[0]:.2f}% inertia)')\n",
        "ax.set_ylabel(f'Dimension 2 ({ca.eigenvalues_[1]:.2f}% inertia)')\n",
        "ax.legend()\n",
        "ax.grid(True)\n",
        "\n",
        "# Add origin lines\n",
        "ax.axhline(0, color='black', linestyle='--', linewidth=0.8)\n",
        "ax.axvline(0, color='black', linestyle='--', linewidth=0.8)\n",
        "\n",
        "plt.show()"
      ]
    }
  ],
  "metadata": {
    "kernelspec": {
      "display_name": "Python 3",
      "language": "python",
      "name": "python3"
    },
    "language_info": {
      "name": "python",
      "version": "3.12.3"
    },
    "colab": {
      "provenance": []
    }
  },
  "nbformat": 4,
  "nbformat_minor": 5
}